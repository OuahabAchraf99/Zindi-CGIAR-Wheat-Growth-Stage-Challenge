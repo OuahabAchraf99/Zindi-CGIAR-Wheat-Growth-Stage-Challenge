{
 "cells": [
  {
   "cell_type": "code",
   "execution_count": 1,
   "source": [
    "import os\r\n",
    "import shutil\r\n",
    "import numpy as np\r\n",
    "import pandas as pd\r\n",
    "import tensorflow as tf\r\n",
    "from tensorflow import keras as K\r\n",
    "import DataVisualization\r\n",
    "import ManageFilesAndDirectories\r\n",
    "from sklearn.model_selection import train_test_split"
   ],
   "outputs": [],
   "metadata": {}
  },
  {
   "cell_type": "code",
   "execution_count": 2,
   "source": [
    "Data_DF=pd.read_csv('Train.csv')\r\n",
    "Data_DF.head()\r\n",
    "print(Data_DF.count)"
   ],
   "outputs": [
    {
     "output_type": "stream",
     "name": "stdout",
     "text": [
      "<bound method DataFrame.count of             UID  growth_stage  label_quality\n",
      "0      nwuCTQKz             4              2\n",
      "1      NVGUOzWu             1              1\n",
      "2      1IYVvHwA             1              1\n",
      "3      8OEdWwmU             1              1\n",
      "4      oc5iO04j             1              1\n",
      "...         ...           ...            ...\n",
      "10690  kofNGJxs             7              1\n",
      "10691  LTXarO7P             5              2\n",
      "10692  YiM4pnCK             5              1\n",
      "10693  pYX0aRyl             7              1\n",
      "10694  LXUDkic1             1              1\n",
      "\n",
      "[10695 rows x 3 columns]>\n"
     ]
    }
   ],
   "metadata": {}
  },
  {
   "cell_type": "code",
   "execution_count": 4,
   "source": [
    "UIDs=list(Data_DF[\"UID\"])\r\n",
    "Data_Count=len(UIDs)\r\n",
    "# Splitting Data \r\n",
    "Train_UIDs,Val_UIDs=train_test_split(UIDs,test_size=0.2)\r\n",
    "Train_UIDs[:10]"
   ],
   "outputs": [
    {
     "output_type": "execute_result",
     "data": {
      "text/plain": [
       "['zCijDywV',\n",
       " 'alAx7qvr',\n",
       " 'JU2Qz5bk',\n",
       " 'AHhGmiuN',\n",
       " 'cwTD8VUg',\n",
       " '7yloZpRO',\n",
       " '6Lte2DqR',\n",
       " 'NJmbqR4h',\n",
       " 'oaFSQOU9',\n",
       " 'ISChkc8Z']"
      ]
     },
     "metadata": {},
     "execution_count": 4
    }
   ],
   "metadata": {}
  },
  {
   "cell_type": "code",
   "execution_count": 5,
   "source": [
    "def GetLabel(uid):\r\n",
    "    return (Data_DF.loc[Data_DF[\"UID\"]==uid]).iloc[0][\"growth_stage\"]\r\n",
    "classes_count=dict(Data_DF[\"growth_stage\"].value_counts())\r\n",
    "print(\"classe: count  \\n\",classes_count)\r\n",
    "DataVisualization.bar_plot(list(classes_count.keys()),list(classes_count.values()))"
   ],
   "outputs": [
    {
     "output_type": "stream",
     "name": "stdout",
     "text": [
      "classe: count  \n",
      " {1: 3057, 7: 2335, 4: 1712, 2: 1389, 5: 1092, 3: 689, 6: 421}\n"
     ]
    },
    {
     "output_type": "display_data",
     "data": {
      "text/plain": [
       "<Figure size 432x288 with 1 Axes>"
      ],
      "image/png": "[encoded data removed]"
     },
     "metadata": {
      "needs_background": "light"
     }
    }
   ],
   "metadata": {}
  },
  {
   "cell_type": "code",
   "execution_count": 6,
   "source": [
    "classes_weights={k:(sum(classes_count.values())-classes_count[k])/(6*Data_Count) for k,v in classes_count.items()}\r\n",
    "classes_weights"
   ],
   "outputs": [
    {
     "output_type": "execute_result",
     "data": {
      "text/plain": [
       "{1: 0.1190275829827022,\n",
       " 7: 0.13027894654823127,\n",
       " 4: 0.13998753311516285,\n",
       " 2: 0.1450210378681627,\n",
       " 5: 0.1496493688639551,\n",
       " 3: 0.1559295621006701,\n",
       " 6: 0.16010596852111578}"
      ]
     },
     "metadata": {},
     "execution_count": 6
    }
   ],
   "metadata": {}
  },
  {
   "cell_type": "code",
   "execution_count": 7,
   "source": [
    "main_dir=os.getcwd()\r\n",
    "#Creating Training, Validation and Testing Folders:\r\n",
    "ManageFilesAndDirectories.create_directory(\"Data\")\r\n",
    "ManageFilesAndDirectories.create_directory(\"Data/train\")\r\n",
    "ManageFilesAndDirectories.create_directory(\"Data/validation\")\r\n",
    "ManageFilesAndDirectories.create_directory(\"Data/test\")\r\n"
   ],
   "outputs": [
    {
     "output_type": "execute_result",
     "data": {
      "text/plain": [
       "True"
      ]
     },
     "metadata": {},
     "execution_count": 7
    }
   ],
   "metadata": {}
  },
  {
   "cell_type": "code",
   "execution_count": 8,
   "source": [
    "# Splitting the Data into train,test and validation\r\n",
    "\r\n",
    "train_images_paths=[os.path.join(str(main_dir),\"Images\",str(f+\".jpeg\")) for f in Train_UIDs]\r\n",
    "val_images_paths=[os.path.join(str(main_dir),\"Images\",str(f+\".jpeg\")) for f in Val_UIDs]\r\n",
    "ManageFilesAndDirectories.move_batch_files(train_images_paths,\"Data/train\")\r\n",
    "ManageFilesAndDirectories.move_batch_files(val_images_paths,\"Data/validation\")\r\n",
    "\r\n",
    "test_images_paths=tf.io.gfile.glob(str(main_dir+\"/Images/*.jpeg\"))\r\n",
    "ManageFilesAndDirectories.move_batch_files(test_images_paths,\"Data/test\")"
   ],
   "outputs": [],
   "metadata": {}
  },
  {
   "cell_type": "code",
   "execution_count": 9,
   "source": [
    "for p in (\"Data/train\",\"Data/validation\"):\r\n",
    "    for label in classes_count.keys():\r\n",
    "        ManageFilesAndDirectories.create_directory(os.path.join(main_dir,str(p),str(label)))"
   ],
   "outputs": [],
   "metadata": {}
  },
  {
   "cell_type": "code",
   "execution_count": 10,
   "source": [
    "train_images_paths=tf.io.gfile.glob(str(main_dir+\"/Data/train/*.jpeg\"))\r\n",
    "val_images_paths=tf.io.gfile.glob(str(main_dir+\"/Data/validation/*.jpeg\"))\r\n",
    "for f in train_images_paths:\r\n",
    "    uid=(f.split(\"\\\\\")[-1]).split(\".\")[-2]\r\n",
    "    shutil.move(f,os.path.join(main_dir,\"Data/train\",str(GetLabel(uid))))\r\n",
    "\r\n",
    "for f in val_images_paths:\r\n",
    "    uid=(f.split(\"\\\\\")[-1]).split(\".\")[-2]\r\n",
    "    shutil.move(f,os.path.join(main_dir,\"Data/validation\",str(GetLabel(uid))))\r\n"
   ],
   "outputs": [],
   "metadata": {}
  },
  {
   "cell_type": "code",
   "execution_count": null,
   "source": [
    "# Build Training and Validation Datasets\r\n",
    "BATCH_SIZE=32\r\n",
    "train_ds = tf.keras.preprocessing.image_dataset_from_directory(\r\n",
    "    \"c:\\\\Users\\\\LATITUDE 7490\\\\Downloads\\\\Zindi Wheat Growth Stage Challenge\\\\Images\",\r\n",
    "    validation_split=0.2,\r\n",
    "    subset=\"training\",\r\n",
    "    seed=1337,\r\n",
    "    batch_size=BATCH_SIZE,\r\n",
    ")\r\n",
    "val_ds = tf.keras.preprocessing.image_dataset_from_directory(\r\n",
    "    \"c:\\\\Users\\\\LATITUDE 7490\\\\Downloads\\\\Zindi Wheat Growth Stage Challenge\\\\Images\",\r\n",
    "    validation_split=0.2,\r\n",
    "    subset=\"validation\",\r\n",
    "    seed=1337,\r\n",
    "    batch_size=BATCH_SIZE,\r\n",
    ")"
   ],
   "outputs": [],
   "metadata": {}
  }
 ],
 "metadata": {
  "orig_nbformat": 4,
  "language_info": {
   "name": "python",
   "version": "3.8.5",
   "mimetype": "text/x-python",
   "codemirror_mode": {
    "name": "ipython",
    "version": 3
   },
   "pygments_lexer": "ipython3",
   "nbconvert_exporter": "python",
   "file_extension": ".py"
  },
  "kernelspec": {
   "name": "python3",
   "display_name": "Python 3.8.5 64-bit ('base': conda)"
  },
  "interpreter": {
   "hash": "b3ba2566441a7c06988d0923437866b63cedc61552a5af99d1f4fb67d367b25f"
  }
 },
 "nbformat": 4,
 "nbformat_minor": 2
}